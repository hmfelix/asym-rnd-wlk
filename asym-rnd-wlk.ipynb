{
 "cells": [
  {
   "cell_type": "markdown",
   "metadata": {},
   "source": [
    "# A gambler's ruin game: analytical and numerical solutions"
   ]
  },
  {
   "cell_type": "markdown",
   "metadata": {},
   "source": [
    "## The problem\n",
    "\n",
    "As part of basic training to start a research project in the field of interacting agent systems, a professor at University of São Paulo's Institute for Mathematics and Statistics dared me to solve a gambler's ruin problem with the following configuration:\n",
    "\n",
    "- Player **A** starts with $150$ BRL\n",
    "- Player **B** starts with $80$ BRL\n",
    "- We define two parameters $p$ and $q$ such that $0 \\leq p,q \\leq 1$ and $p + q = 1$\n",
    "- Each turn, either: \n",
    "    1. **A** transfers $10$ BRL to **B** with probability $q$; or\n",
    "    2. **B** transfers $10$ BRL to **A** with probability $p$\n",
    "- The game ends when any player goes broke\n",
    "\n",
    "Questions:\n",
    "\n",
    "**(i)** What is the probability that **A** goes broke? \n",
    "\n",
    "**(ii)** What is the expected duration of the game (in # of turns)?\n",
    "\n",
    "In the following topics I first propose a theoretical, analytical solution and then a Python simulation that allows us to numerically verify the former."
   ]
  },
  {
   "cell_type": "markdown",
   "metadata": {},
   "source": [
    "## Analytical solution"
   ]
  },
  {
   "cell_type": "markdown",
   "metadata": {},
   "source": [
    "### Introduction\n",
    "\n",
    "When trying to solve the problem, I quickly realized that there are several different ways in which it can be solved. For instance, XXXX thinks of the symmetric version of the problem ($p=q=1/2$) as a recursion with two boundary conditions and solves it as an initial value problem (IVP), analogous to solving an ordinary differential equation using characteristic polynomials. On its turn, XXXX displays the asymmetric version in the form of a telescopic series and solves it using the techniques of sequences and series, akin to an introductory course in Real Analysis. Going one step further into generalizing the problem, XXXX frames it as a Markov Chain with two absorbing states.\n",
    "\n",
    "Here I propose a more straightforward approach, much like a Physicist would tackle the problem for the first time without prior knowledge of the techniques above. The advantage is that only a very elementary knowledge of calculus and probability is required, such that a student in the middle of the first (STEM undergrad) semester is readily able to comprehend. For problem **(i)** my approach is somewhat similar to the one used by XXXX when modelling the absorption of particles by living systems in one dimension, consisting of decomposing the probabilities of alternate paths in a random walk. For problem **(ii)** I come up with an analogy with velocity that feels very intuitive for physicists.\n"
   ]
  },
  {
   "cell_type": "markdown",
   "metadata": {},
   "source": [
    "### Setup\n",
    "\n",
    "Denote $S_n$ as the money held by Player **A** during the $n$-th play. Since players are transferring to each other from a finite resource pool, they share the constraint that the sum of resources in the game is $150$ BRL + $80$ BRL $= 230$ BRL, so Player **B**'s account is simply $230$ BRL $- S_n $.\n",
    "\n",
    "The process of solution is made much easier if we scale the problem by units of 10 BRL, such that 10 BRL = 1 monetary unit.\n",
    "\n",
    "With this setup, the state of the system can be described by the sole number $S_n$, which starts at $S_0=15$ and ranges from 0 (where **A** is broke) to 23 (where **B** is broke). Displaying all the possible states in order (interval $[0,23]$ on the integers $\\mathbb{Z}$) and plotting position $S_n$ against duration $n$ of the game (interval $[0,N]$ with $N \\in \\mathbb{Z}$), we can visualize $S_n$ as the position in a random walk as in the example run below:\n",
    "\n",
    "**FIG EXEMPLO**\n",
    "\n",
    "In such setup, each $i$-th step $X_i$ (i.e., one money transfer) equals 1 unit up or down, that is $X_i \\in \\{-1,1\\}$, and $X_i$ is a random variable. Since position $S_n$ is a function of $X_i$, it is also a random variable. The walk has two absorbing barriers, one at $S_0$ and the other at $S_{23}$."
   ]
  },
  {
   "cell_type": "markdown",
   "metadata": {},
   "source": [
    "### Solution to question **(i)**"
   ]
  },
  {
   "cell_type": "markdown",
   "metadata": {},
   "source": [
    "#### Step 1: recurring probabilities in a game with one barrier\n",
    "\n",
    "We will first study a similar problem where Player **A** is not playing against another player, but rather against an infinite resouce pool, so **A** can get as rich as chance allows without the game ending. In other words, there is only one absorbing barrier at $S_0$.\n",
    "\n",
    "We can forget about the initial position for now and consider the probability of **A** going broke starting from an arbitrary position $S$, no matter at which step of the simulation this position is reached. I denote this probability as $P_S^{|}$, where the superscript $|$ stands for the one-barrier problem. Note that this probability does not depend on the number of steps needed for **A** to lose.\n",
    "\n",
    "It is useful to decompose $P_S^{|}$ into single unit steps in order to obtain a recurrence relation. Note that **A** gets as close as possible to being broke at any step $n$ when $S_n = S = 1$. In this situation, the probability that **A** takes the next step downward (i.e., transfers $10$ BRL to **B**) and loses for sure is $q\\cdot P_0^{|}$, and it is clear that\n",
    "\n",
    "$$P_0^{|}=1$$\n",
    "\n",
    ", so the probability of such path is actually $q\\cdot 1 = q$. If, however, **A** gets lucky and moves upward with probability $p$ (i.e., receives $10$ BRL from **B**), arriving at $S = 2$, then by definition the probability that the game eventually comes to an end, no matter how many steps are needed, is $P_2^{||}$. So when $S=1$, there are only two mutually exclusive possible paths for failure. The probability of failure can then be decomposed into:\n",
    "\n",
    "$$P_1^{|}= q + p \\cdot P_2^{|}$$\n",
    "\n",
    "If $S = 2$, we can imagine that there is a new barrier at $S = 1$. The probability that the walk gets back to $S = 1$ is analogous to the expression above because it is akin to the game ending at this new imaginary barrier $S = 1$. Once back to $S = 1$, the expression above applies again. In other words, for **A** to lose from $S = 2$, she needs to fail the imaginary barrier first, going back to $S = 1$ (with the same analogous probability $P_1^{|}$), and then fail again, this time definitely, starting from $S = 1$, with probability $P_1^{|}$. This means\n",
    "\n",
    "$$P_2^{|}= P_1^{|} \\cdot P_1^{|} = (P_1^{|})^2$$\n",
    "\n",
    "Combining equations above, we reach one single equation with one variable $P_1^{|}$ of degree two, for which we can solve finding two roots:\n",
    "\n",
    "$$P_1^{|}= q + p \\cdot (P_1^{|})^2 \\,\\, \\Leftrightarrow \\,\\, P_1^{|\\,\\prime}= \\frac{q}{p} \\,\\,\\,;\\,\\,\\, P_1^{|\\,\\prime\\prime} = \\frac{1-q}{p} = \\frac{p}{p} =  1 $$\n"
   ]
  },
  {
   "cell_type": "markdown",
   "metadata": {},
   "source": [
    "\n",
    "\n",
    "\n",
    "\n",
    "## Python simulation\n",
    "\n",
    "\n",
    "## Conclusion\n",
    "\n",
    "## References"
   ]
  }
 ],
 "metadata": {
  "kernelspec": {
   "display_name": "Python 3 (ipykernel)",
   "language": "python",
   "name": "python3"
  },
  "language_info": {
   "codemirror_mode": {
    "name": "ipython",
    "version": 3
   },
   "file_extension": ".py",
   "mimetype": "text/x-python",
   "name": "python",
   "nbconvert_exporter": "python",
   "pygments_lexer": "ipython3",
   "version": "3.9.7"
  }
 },
 "nbformat": 4,
 "nbformat_minor": 2
}
